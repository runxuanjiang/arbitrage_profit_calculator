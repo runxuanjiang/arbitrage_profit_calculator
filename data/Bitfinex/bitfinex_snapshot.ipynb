{
 "cells": [
  {
   "cell_type": "code",
   "execution_count": 12,
   "metadata": {},
   "outputs": [
    {
     "name": "stderr",
     "output_type": "stream",
     "text": [
      "--- request header ---\n",
      "GET /ws/2 HTTP/1.1\n",
      "Upgrade: websocket\n",
      "Connection: Upgrade\n",
      "Host: api-pub.bitfinex.com\n",
      "Origin: http://api-pub.bitfinex.com\n",
      "Sec-WebSocket-Key: UYr0g1UQxmVrBX3gY3YR5A==\n",
      "Sec-WebSocket-Version: 13\n",
      "Cookie: __cfduid=dc0aafba6407ec0f2f8e5d04388967faa1549478650\n",
      "\n",
      "\n",
      "-----------------------\n",
      "--- response header ---\n",
      "HTTP/1.1 101 Switching Protocols\n",
      "Date: Thu, 07 Feb 2019 04:51:26 GMT\n",
      "Connection: upgrade\n",
      "Upgrade: websocket\n",
      "Sec-WebSocket-Accept: Wp9BkYp+BrMwhh281hcrZksHC7o=\n",
      "uWebSockets: v0.15\n",
      "X-Frame-Options: SAMEORIGIN\n",
      "X-XSS-Protection: 1; mode=block\n",
      "X-Content-Type-Options: nosniff\n",
      "Strict-Transport-Security: max-age=31536000; includeSubdomains;\n",
      "Expect-CT: max-age=604800, report-uri=\"https://report-uri.cloudflare.com/cdn-cgi/beacon/expect-ct\"\n",
      "Server: cloudflare\n",
      "CF-RAY: 4a533dc61ad57e2d-DTW\n",
      "-----------------------\n",
      "send: b'\\x81\\xcd\\x8f\\xb1\\xf3\\x92\\xf4\\x91\\xd1\\xf7\\xf9\\xd4\\x9d\\xe6\\xad\\x8b\\xd3\\xb0\\xfc\\xc4\\x91\\xe1\\xec\\xc3\\x9a\\xf0\\xea\\x93\\xdf\\xb2\\xad\\xd2\\x9b\\xf3\\xe1\\xdf\\x96\\xfe\\xad\\x8b\\xd3\\xb0\\xed\\xde\\x9c\\xf9\\xad\\x9d\\xd3\\xb2\\xad\\xc2\\x8a\\xff\\xed\\xde\\x9f\\xb0\\xb5\\x91\\xd1\\xe6\\xcd\\xe5\\xb0\\xc7\\xdc\\xf5\\xd1\\xbe\\xaf\\x93\\x9f\\xf7\\xe1\\x93\\xc9\\xb0\\xbe\\x81\\xc3\\xb0\\xf2'\n",
      "send: b'\\x88\\x82\\xc6;\\x0c\\x88\\xc5\\xd3'\n"
     ]
    },
    {
     "name": "stdout",
     "output_type": "stream",
     "text": [
      "'NoneType' object has no attribute 'connected'\n",
      "### closed ###\n"
     ]
    }
   ],
   "source": [
    "import websocket\n",
    "import json\n",
    "import pandas as pd\n",
    "import time\n",
    "try:\n",
    "    import thread\n",
    "except ImportError:\n",
    "    import _thread as thread\n",
    "import time\n",
    "\n",
    "\n",
    "coin = \"btcusd\" #Set you coin\n",
    "init = 1\n",
    "lst = None\n",
    "header = pd.DataFrame({'timestamps':[],'price':[],'count':[],'amount':[]})\n",
    "\n",
    "\n",
    "def on_message(ws, message):\n",
    "    global init, coin\n",
    "    result = json.loads(message)\n",
    "    if (init <= 2):\n",
    "        #file path, one for initial data, one for transaction records\n",
    "        #the folder needs to be created before the program\n",
    "        init += 1\n",
    "    elif init <= 3: \n",
    "        timestamps = time.time() \n",
    "        #header.to_csv(coin+'.csv', header=True,index=False)\n",
    "        header.to_csv(coin+str(timestamps)+'.csv', header=True,index=False)\n",
    "        for events in result[1]:\n",
    "            data = pd.DataFrame({'timestamps':timestamps,'orderID':[events[0]],'price':[events[1]],'amount':[events[2]]}) \n",
    "            data.to_csv(coin+str(timestamps)+'.csv',mode= 'a', header=False, index=False)\n",
    "        ws.close()\n",
    "        init += 1\n",
    "    else:\n",
    "        events = result[1]\n",
    "        if (len(events)==3):   \n",
    "            events = pd.DataFrame({'timestamps':[time.time()],'orderID':[events[0]],'price':[events[1]],'amount':[events[2]]}) \n",
    "            events.to_csv(coin+'.csv', mode= 'a', header=False, index=False)\n",
    "def on_error(ws, error):\n",
    "    print(error)\n",
    "\n",
    "def on_close(ws):\n",
    "    print(\"### closed ###\")\n",
    "\n",
    "def on_open(ws):\n",
    "    ws.send('{ \"event\": \"subscribe\", \"channel\": \"book\",  \"symbol\": \"tBTCUSD\", \"len\":\"100\"}')\n",
    "\n",
    "if __name__ == \"__main__\":\n",
    "    websocket.enableTrace(True)\n",
    "    #url here, add any other options according to API document\n",
    "    ws = websocket.WebSocketApp(\"wss://api-pub.bitfinex.com/ws/2\",\n",
    "                              on_message = on_message,\n",
    "                              on_error = on_error,\n",
    "                              on_close = on_close,\n",
    "                              on_open = on_open)\n",
    "    ws.run_forever()"
   ]
  },
  {
   "cell_type": "code",
   "execution_count": null,
   "metadata": {},
   "outputs": [],
   "source": []
  }
 ],
 "metadata": {
  "kernelspec": {
   "display_name": "Python 3",
   "language": "python",
   "name": "python3"
  },
  "language_info": {
   "codemirror_mode": {
    "name": "ipython",
    "version": 3
   },
   "file_extension": ".py",
   "mimetype": "text/x-python",
   "name": "python",
   "nbconvert_exporter": "python",
   "pygments_lexer": "ipython3",
   "version": "3.7.0"
  }
 },
 "nbformat": 4,
 "nbformat_minor": 2
}
