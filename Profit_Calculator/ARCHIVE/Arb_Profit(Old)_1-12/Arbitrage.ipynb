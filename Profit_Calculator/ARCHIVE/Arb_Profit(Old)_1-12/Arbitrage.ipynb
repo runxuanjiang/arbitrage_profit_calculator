{
 "cells": [
  {
   "cell_type": "code",
   "execution_count": 1,
   "metadata": {},
   "outputs": [],
   "source": [
    "import pandas as pd\n",
    "import numpy as np"
   ]
  },
  {
   "cell_type": "code",
   "execution_count": 13,
   "metadata": {},
   "outputs": [],
   "source": [
    "direc='/Users/drimik99/Desktop/Work/Research/SRG/1-12/'"
   ]
  },
  {
   "cell_type": "code",
   "execution_count": 14,
   "metadata": {},
   "outputs": [],
   "source": [
    "df = pd.read_csv(direc + 'btcusd.csv')"
   ]
  },
  {
   "cell_type": "code",
   "execution_count": 15,
   "metadata": {},
   "outputs": [],
   "source": [
    "df=df[[i for i in df.columns if i!='Unnamed: 0']]"
   ]
  },
  {
   "cell_type": "code",
   "execution_count": 16,
   "metadata": {},
   "outputs": [
    {
     "data": {
      "text/html": [
       "<div>\n",
       "<style scoped>\n",
       "    .dataframe tbody tr th:only-of-type {\n",
       "        vertical-align: middle;\n",
       "    }\n",
       "\n",
       "    .dataframe tbody tr th {\n",
       "        vertical-align: top;\n",
       "    }\n",
       "\n",
       "    .dataframe thead th {\n",
       "        text-align: right;\n",
       "    }\n",
       "</style>\n",
       "<table border=\"1\" class=\"dataframe\">\n",
       "  <thead>\n",
       "    <tr style=\"text-align: right;\">\n",
       "      <th></th>\n",
       "      <th>type</th>\n",
       "      <th>eventId</th>\n",
       "      <th>timestamp</th>\n",
       "      <th>timestampms</th>\n",
       "      <th>socket_sequence</th>\n",
       "      <th>event_type</th>\n",
       "      <th>side</th>\n",
       "      <th>price</th>\n",
       "      <th>remaining</th>\n",
       "      <th>delta</th>\n",
       "      <th>reason</th>\n",
       "    </tr>\n",
       "  </thead>\n",
       "  <tbody>\n",
       "    <tr>\n",
       "      <th>0</th>\n",
       "      <td>update</td>\n",
       "      <td>5347144857</td>\n",
       "      <td>1547321049</td>\n",
       "      <td>1.547320e+12</td>\n",
       "      <td>1</td>\n",
       "      <td>change</td>\n",
       "      <td>ask</td>\n",
       "      <td>3629.26</td>\n",
       "      <td>1.396807</td>\n",
       "      <td>1.396807</td>\n",
       "      <td>place</td>\n",
       "    </tr>\n",
       "    <tr>\n",
       "      <th>1</th>\n",
       "      <td>update</td>\n",
       "      <td>5347144867</td>\n",
       "      <td>1547321050</td>\n",
       "      <td>1.547320e+12</td>\n",
       "      <td>2</td>\n",
       "      <td>change</td>\n",
       "      <td>ask</td>\n",
       "      <td>3652.60</td>\n",
       "      <td>0.620000</td>\n",
       "      <td>0.620000</td>\n",
       "      <td>place</td>\n",
       "    </tr>\n",
       "    <tr>\n",
       "      <th>2</th>\n",
       "      <td>update</td>\n",
       "      <td>5347144944</td>\n",
       "      <td>1547321053</td>\n",
       "      <td>1.547320e+12</td>\n",
       "      <td>3</td>\n",
       "      <td>change</td>\n",
       "      <td>bid</td>\n",
       "      <td>3625.83</td>\n",
       "      <td>0.000000</td>\n",
       "      <td>-3.700000</td>\n",
       "      <td>cancel</td>\n",
       "    </tr>\n",
       "    <tr>\n",
       "      <th>3</th>\n",
       "      <td>update</td>\n",
       "      <td>5347144947</td>\n",
       "      <td>1547321054</td>\n",
       "      <td>1.547320e+12</td>\n",
       "      <td>4</td>\n",
       "      <td>change</td>\n",
       "      <td>bid</td>\n",
       "      <td>3626.83</td>\n",
       "      <td>0.000000</td>\n",
       "      <td>-6.857100</td>\n",
       "      <td>cancel</td>\n",
       "    </tr>\n",
       "    <tr>\n",
       "      <th>4</th>\n",
       "      <td>update</td>\n",
       "      <td>5347144951</td>\n",
       "      <td>1547321054</td>\n",
       "      <td>1.547320e+12</td>\n",
       "      <td>5</td>\n",
       "      <td>change</td>\n",
       "      <td>bid</td>\n",
       "      <td>3624.78</td>\n",
       "      <td>6.889100</td>\n",
       "      <td>6.889100</td>\n",
       "      <td>place</td>\n",
       "    </tr>\n",
       "    <tr>\n",
       "      <th>5</th>\n",
       "      <td>update</td>\n",
       "      <td>5347144954</td>\n",
       "      <td>1547321054</td>\n",
       "      <td>1.547320e+12</td>\n",
       "      <td>6</td>\n",
       "      <td>change</td>\n",
       "      <td>bid</td>\n",
       "      <td>3607.87</td>\n",
       "      <td>4.300000</td>\n",
       "      <td>4.300000</td>\n",
       "      <td>place</td>\n",
       "    </tr>\n",
       "    <tr>\n",
       "      <th>6</th>\n",
       "      <td>update</td>\n",
       "      <td>5347144962</td>\n",
       "      <td>1547321054</td>\n",
       "      <td>1.547320e+12</td>\n",
       "      <td>7</td>\n",
       "      <td>change</td>\n",
       "      <td>bid</td>\n",
       "      <td>3624.79</td>\n",
       "      <td>6.550000</td>\n",
       "      <td>6.550000</td>\n",
       "      <td>place</td>\n",
       "    </tr>\n",
       "    <tr>\n",
       "      <th>7</th>\n",
       "      <td>update</td>\n",
       "      <td>5347144966</td>\n",
       "      <td>1547321054</td>\n",
       "      <td>1.547320e+12</td>\n",
       "      <td>8</td>\n",
       "      <td>change</td>\n",
       "      <td>bid</td>\n",
       "      <td>3624.78</td>\n",
       "      <td>0.000000</td>\n",
       "      <td>-6.889100</td>\n",
       "      <td>cancel</td>\n",
       "    </tr>\n",
       "    <tr>\n",
       "      <th>8</th>\n",
       "      <td>update</td>\n",
       "      <td>5347144970</td>\n",
       "      <td>1547321054</td>\n",
       "      <td>1.547320e+12</td>\n",
       "      <td>9</td>\n",
       "      <td>change</td>\n",
       "      <td>bid</td>\n",
       "      <td>3625.29</td>\n",
       "      <td>6.875000</td>\n",
       "      <td>6.875000</td>\n",
       "      <td>place</td>\n",
       "    </tr>\n",
       "    <tr>\n",
       "      <th>9</th>\n",
       "      <td>update</td>\n",
       "      <td>5347144975</td>\n",
       "      <td>1547321054</td>\n",
       "      <td>1.547320e+12</td>\n",
       "      <td>10</td>\n",
       "      <td>change</td>\n",
       "      <td>bid</td>\n",
       "      <td>3624.79</td>\n",
       "      <td>0.000000</td>\n",
       "      <td>-6.550000</td>\n",
       "      <td>cancel</td>\n",
       "    </tr>\n",
       "  </tbody>\n",
       "</table>\n",
       "</div>"
      ],
      "text/plain": [
       "     type     eventId   timestamp   timestampms  socket_sequence event_type  \\\n",
       "0  update  5347144857  1547321049  1.547320e+12                1     change   \n",
       "1  update  5347144867  1547321050  1.547320e+12                2     change   \n",
       "2  update  5347144944  1547321053  1.547320e+12                3     change   \n",
       "3  update  5347144947  1547321054  1.547320e+12                4     change   \n",
       "4  update  5347144951  1547321054  1.547320e+12                5     change   \n",
       "5  update  5347144954  1547321054  1.547320e+12                6     change   \n",
       "6  update  5347144962  1547321054  1.547320e+12                7     change   \n",
       "7  update  5347144966  1547321054  1.547320e+12                8     change   \n",
       "8  update  5347144970  1547321054  1.547320e+12                9     change   \n",
       "9  update  5347144975  1547321054  1.547320e+12               10     change   \n",
       "\n",
       "  side    price  remaining     delta  reason  \n",
       "0  ask  3629.26   1.396807  1.396807   place  \n",
       "1  ask  3652.60   0.620000  0.620000   place  \n",
       "2  bid  3625.83   0.000000 -3.700000  cancel  \n",
       "3  bid  3626.83   0.000000 -6.857100  cancel  \n",
       "4  bid  3624.78   6.889100  6.889100   place  \n",
       "5  bid  3607.87   4.300000  4.300000   place  \n",
       "6  bid  3624.79   6.550000  6.550000   place  \n",
       "7  bid  3624.78   0.000000 -6.889100  cancel  \n",
       "8  bid  3625.29   6.875000  6.875000   place  \n",
       "9  bid  3624.79   0.000000 -6.550000  cancel  "
      ]
     },
     "execution_count": 16,
     "metadata": {},
     "output_type": "execute_result"
    }
   ],
   "source": [
    "df.head(10)"
   ]
  },
  {
   "cell_type": "code",
   "execution_count": 17,
   "metadata": {},
   "outputs": [],
   "source": [
    "df_trade_prices=df[df['reason']=='trade'][['timestamp', 'price']]"
   ]
  },
  {
   "cell_type": "code",
   "execution_count": 2,
   "metadata": {},
   "outputs": [],
   "source": [
    "from matplotlib import pyplot as plt\n",
    "%matplotlib inline"
   ]
  },
  {
   "cell_type": "code",
   "execution_count": 19,
   "metadata": {},
   "outputs": [
    {
     "data": {
      "text/plain": [
       "<matplotlib.axes._subplots.AxesSubplot at 0x11fab1588>"
      ]
     },
     "execution_count": 19,
     "metadata": {},
     "output_type": "execute_result"
    },
    {
     "data": {
      "image/png": "[encoded data removed]",
      "text/plain": [
       "<Figure size 432x288 with 1 Axes>"
      ]
     },
     "metadata": {},
     "output_type": "display_data"
    }
   ],
   "source": [
    "df_trade_prices.plot(x='timestamp',y='price',kind='line')"
   ]
  },
  {
   "cell_type": "code",
   "execution_count": 21,
   "metadata": {},
   "outputs": [],
   "source": [
    "df_mid = pd.read_csv(direc + 'btcusd_top.csv')"
   ]
  },
  {
   "cell_type": "code",
   "execution_count": 23,
   "metadata": {},
   "outputs": [],
   "source": [
    "df_mid=df_mid[[i for i in df_mid.columns if i!='Unnamed: 0']]"
   ]
  },
  {
   "cell_type": "code",
   "execution_count": 24,
   "metadata": {},
   "outputs": [
    {
     "data": {
      "text/html": [
       "<div>\n",
       "<style scoped>\n",
       "    .dataframe tbody tr th:only-of-type {\n",
       "        vertical-align: middle;\n",
       "    }\n",
       "\n",
       "    .dataframe tbody tr th {\n",
       "        vertical-align: top;\n",
       "    }\n",
       "\n",
       "    .dataframe thead th {\n",
       "        text-align: right;\n",
       "    }\n",
       "</style>\n",
       "<table border=\"1\" class=\"dataframe\">\n",
       "  <thead>\n",
       "    <tr style=\"text-align: right;\">\n",
       "      <th></th>\n",
       "      <th>timestamp</th>\n",
       "      <th>timestampsms</th>\n",
       "      <th>highestBid</th>\n",
       "      <th>lowestAsk</th>\n",
       "      <th>midpoint</th>\n",
       "    </tr>\n",
       "  </thead>\n",
       "  <tbody>\n",
       "    <tr>\n",
       "      <th>0</th>\n",
       "      <td>1547322530</td>\n",
       "      <td>1547322530144</td>\n",
       "      <td>3630.0</td>\n",
       "      <td>3632.01</td>\n",
       "      <td>3631.005</td>\n",
       "    </tr>\n",
       "    <tr>\n",
       "      <th>1</th>\n",
       "      <td>1547322530</td>\n",
       "      <td>1547322530243</td>\n",
       "      <td>3630.5</td>\n",
       "      <td>3632.01</td>\n",
       "      <td>3631.255</td>\n",
       "    </tr>\n",
       "    <tr>\n",
       "      <th>2</th>\n",
       "      <td>1547322531</td>\n",
       "      <td>1547322531155</td>\n",
       "      <td>3630.0</td>\n",
       "      <td>3632.01</td>\n",
       "      <td>3631.005</td>\n",
       "    </tr>\n",
       "    <tr>\n",
       "      <th>3</th>\n",
       "      <td>1547322531</td>\n",
       "      <td>1547322531252</td>\n",
       "      <td>3630.5</td>\n",
       "      <td>3632.01</td>\n",
       "      <td>3631.255</td>\n",
       "    </tr>\n",
       "    <tr>\n",
       "      <th>4</th>\n",
       "      <td>1547322532</td>\n",
       "      <td>1547322532172</td>\n",
       "      <td>3630.0</td>\n",
       "      <td>3632.01</td>\n",
       "      <td>3631.005</td>\n",
       "    </tr>\n",
       "    <tr>\n",
       "      <th>5</th>\n",
       "      <td>1547322533</td>\n",
       "      <td>1547322533792</td>\n",
       "      <td>3630.5</td>\n",
       "      <td>3632.01</td>\n",
       "      <td>3631.255</td>\n",
       "    </tr>\n",
       "    <tr>\n",
       "      <th>6</th>\n",
       "      <td>1547322534</td>\n",
       "      <td>1547322534182</td>\n",
       "      <td>3630.0</td>\n",
       "      <td>3632.01</td>\n",
       "      <td>3631.005</td>\n",
       "    </tr>\n",
       "    <tr>\n",
       "      <th>7</th>\n",
       "      <td>1547322534</td>\n",
       "      <td>1547322534536</td>\n",
       "      <td>3630.5</td>\n",
       "      <td>3632.01</td>\n",
       "      <td>3631.255</td>\n",
       "    </tr>\n",
       "    <tr>\n",
       "      <th>8</th>\n",
       "      <td>1547322535</td>\n",
       "      <td>1547322535197</td>\n",
       "      <td>3630.0</td>\n",
       "      <td>3632.01</td>\n",
       "      <td>3631.005</td>\n",
       "    </tr>\n",
       "    <tr>\n",
       "      <th>9</th>\n",
       "      <td>1547322535</td>\n",
       "      <td>1547322535293</td>\n",
       "      <td>3630.5</td>\n",
       "      <td>3632.01</td>\n",
       "      <td>3631.255</td>\n",
       "    </tr>\n",
       "  </tbody>\n",
       "</table>\n",
       "</div>"
      ],
      "text/plain": [
       "    timestamp   timestampsms  highestBid  lowestAsk  midpoint\n",
       "0  1547322530  1547322530144      3630.0    3632.01  3631.005\n",
       "1  1547322530  1547322530243      3630.5    3632.01  3631.255\n",
       "2  1547322531  1547322531155      3630.0    3632.01  3631.005\n",
       "3  1547322531  1547322531252      3630.5    3632.01  3631.255\n",
       "4  1547322532  1547322532172      3630.0    3632.01  3631.005\n",
       "5  1547322533  1547322533792      3630.5    3632.01  3631.255\n",
       "6  1547322534  1547322534182      3630.0    3632.01  3631.005\n",
       "7  1547322534  1547322534536      3630.5    3632.01  3631.255\n",
       "8  1547322535  1547322535197      3630.0    3632.01  3631.005\n",
       "9  1547322535  1547322535293      3630.5    3632.01  3631.255"
      ]
     },
     "execution_count": 24,
     "metadata": {},
     "output_type": "execute_result"
    }
   ],
   "source": [
    "df_mid.head(10)"
   ]
  },
  {
   "cell_type": "code",
   "execution_count": 3,
   "metadata": {},
   "outputs": [],
   "source": [
    "df_arb = pd.read_csv('Arbitrage.csv')"
   ]
  },
  {
   "cell_type": "code",
   "execution_count": 4,
   "metadata": {},
   "outputs": [],
   "source": [
    "df_arb=df_arb[[i for i in df_arb.columns if i!='Unnamed: 0']]"
   ]
  },
  {
   "cell_type": "code",
   "execution_count": 5,
   "metadata": {},
   "outputs": [
    {
     "data": {
      "text/html": [
       "<div>\n",
       "<style scoped>\n",
       "    .dataframe tbody tr th:only-of-type {\n",
       "        vertical-align: middle;\n",
       "    }\n",
       "\n",
       "    .dataframe tbody tr th {\n",
       "        vertical-align: top;\n",
       "    }\n",
       "\n",
       "    .dataframe thead th {\n",
       "        text-align: right;\n",
       "    }\n",
       "</style>\n",
       "<table border=\"1\" class=\"dataframe\">\n",
       "  <thead>\n",
       "    <tr style=\"text-align: right;\">\n",
       "      <th></th>\n",
       "      <th>Timestamp</th>\n",
       "      <th>ETH/USD</th>\n",
       "      <th>ETH/BTC</th>\n",
       "      <th>BTC/USD</th>\n",
       "      <th>Arbitrage_Profit</th>\n",
       "    </tr>\n",
       "  </thead>\n",
       "  <tbody>\n",
       "    <tr>\n",
       "      <th>0</th>\n",
       "      <td>1547322530</td>\n",
       "      <td>125.505</td>\n",
       "      <td>0.03454</td>\n",
       "      <td>3631.005</td>\n",
       "      <td>-0.000718</td>\n",
       "    </tr>\n",
       "    <tr>\n",
       "      <th>1</th>\n",
       "      <td>1547322531</td>\n",
       "      <td>125.520</td>\n",
       "      <td>0.03452</td>\n",
       "      <td>3631.005</td>\n",
       "      <td>-0.001416</td>\n",
       "    </tr>\n",
       "    <tr>\n",
       "      <th>2</th>\n",
       "      <td>1547322532</td>\n",
       "      <td>125.520</td>\n",
       "      <td>0.03452</td>\n",
       "      <td>3631.005</td>\n",
       "      <td>-0.001416</td>\n",
       "    </tr>\n",
       "    <tr>\n",
       "      <th>3</th>\n",
       "      <td>1547322533</td>\n",
       "      <td>125.520</td>\n",
       "      <td>0.03452</td>\n",
       "      <td>3631.255</td>\n",
       "      <td>-0.001347</td>\n",
       "    </tr>\n",
       "    <tr>\n",
       "      <th>4</th>\n",
       "      <td>1547322534</td>\n",
       "      <td>125.520</td>\n",
       "      <td>0.03452</td>\n",
       "      <td>3631.005</td>\n",
       "      <td>-0.001416</td>\n",
       "    </tr>\n",
       "    <tr>\n",
       "      <th>5</th>\n",
       "      <td>1547322535</td>\n",
       "      <td>125.520</td>\n",
       "      <td>0.03452</td>\n",
       "      <td>3631.005</td>\n",
       "      <td>-0.001416</td>\n",
       "    </tr>\n",
       "    <tr>\n",
       "      <th>6</th>\n",
       "      <td>1547322536</td>\n",
       "      <td>125.520</td>\n",
       "      <td>0.03452</td>\n",
       "      <td>3631.005</td>\n",
       "      <td>-0.001416</td>\n",
       "    </tr>\n",
       "    <tr>\n",
       "      <th>7</th>\n",
       "      <td>1547322537</td>\n",
       "      <td>125.520</td>\n",
       "      <td>0.03452</td>\n",
       "      <td>3631.005</td>\n",
       "      <td>-0.001416</td>\n",
       "    </tr>\n",
       "    <tr>\n",
       "      <th>8</th>\n",
       "      <td>1547322538</td>\n",
       "      <td>125.520</td>\n",
       "      <td>0.03452</td>\n",
       "      <td>3631.005</td>\n",
       "      <td>-0.001416</td>\n",
       "    </tr>\n",
       "    <tr>\n",
       "      <th>9</th>\n",
       "      <td>1547322539</td>\n",
       "      <td>125.520</td>\n",
       "      <td>0.03452</td>\n",
       "      <td>3631.005</td>\n",
       "      <td>-0.001416</td>\n",
       "    </tr>\n",
       "  </tbody>\n",
       "</table>\n",
       "</div>"
      ],
      "text/plain": [
       "    Timestamp  ETH/USD  ETH/BTC   BTC/USD  Arbitrage_Profit\n",
       "0  1547322530  125.505  0.03454  3631.005         -0.000718\n",
       "1  1547322531  125.520  0.03452  3631.005         -0.001416\n",
       "2  1547322532  125.520  0.03452  3631.005         -0.001416\n",
       "3  1547322533  125.520  0.03452  3631.255         -0.001347\n",
       "4  1547322534  125.520  0.03452  3631.005         -0.001416\n",
       "5  1547322535  125.520  0.03452  3631.005         -0.001416\n",
       "6  1547322536  125.520  0.03452  3631.005         -0.001416\n",
       "7  1547322537  125.520  0.03452  3631.005         -0.001416\n",
       "8  1547322538  125.520  0.03452  3631.005         -0.001416\n",
       "9  1547322539  125.520  0.03452  3631.005         -0.001416"
      ]
     },
     "execution_count": 5,
     "metadata": {},
     "output_type": "execute_result"
    }
   ],
   "source": [
    "df_arb.head(10)"
   ]
  },
  {
   "cell_type": "code",
   "execution_count": 6,
   "metadata": {},
   "outputs": [
    {
     "data": {
      "text/plain": [
       "<matplotlib.axes._subplots.AxesSubplot at 0x1a9a0693630>"
      ]
     },
     "execution_count": 6,
     "metadata": {},
     "output_type": "execute_result"
    },
    {
     "data": {
      "image/png": "[encoded data removed]",
      "text/plain": [
       "<Figure size 432x288 with 1 Axes>"
      ]
     },
     "metadata": {
      "needs_background": "light"
     },
     "output_type": "display_data"
    }
   ],
   "source": [
    "df_arb.plot(x='Timestamp',y='Arbitrage_Profit',kind='line')"
   ]
  },
  {
   "cell_type": "code",
   "execution_count": 7,
   "metadata": {},
   "outputs": [],
   "source": [
    "import plotly\n",
    "plotly.tools.set_credentials_file(username='runoxinabox', api_key='Me3F2RtDghz2PhXFH7Zn')\n",
    "import plotly.plotly as py\n",
    "import plotly.graph_objs as go"
   ]
  },
  {
   "cell_type": "code",
   "execution_count": 8,
   "metadata": {},
   "outputs": [],
   "source": [
    "timestamps = df_arb.Timestamp"
   ]
  },
  {
   "cell_type": "code",
   "execution_count": 9,
   "metadata": {},
   "outputs": [],
   "source": [
    "profits = df_arb.Arbitrage_Profit"
   ]
  },
  {
   "cell_type": "code",
   "execution_count": 10,
   "metadata": {},
   "outputs": [],
   "source": [
    "trace0 = go.Scatter(\n",
    "    x = timestamps,\n",
    "    y = profits,\n",
    "    mode = 'lines',\n",
    "    name = 'Arb_Profit'\n",
    ")"
   ]
  },
  {
   "cell_type": "code",
   "execution_count": 11,
   "metadata": {},
   "outputs": [],
   "source": [
    "data = [trace0]"
   ]
  },
  {
   "cell_type": "code",
   "execution_count": 12,
   "metadata": {},
   "outputs": [
    {
     "name": "stdout",
     "output_type": "stream",
     "text": [
      "High five! You successfully sent some data to your account on plotly. View your plot in your browser at https://plot.ly/~runoxinabox/0 or inside your plot.ly account where it is named 'line-mode'\n"
     ]
    },
    {
     "name": "stderr",
     "output_type": "stream",
     "text": [
      "C:\\Users\\runox\\Anaconda3\\lib\\site-packages\\IPython\\core\\display.py:689: UserWarning:\n",
      "\n",
      "Consider using IPython.display.IFrame instead\n",
      "\n"
     ]
    },
    {
     "data": {
      "text/html": [
       "<iframe id=\"igraph\" scrolling=\"no\" style=\"border:none;\" seamless=\"seamless\" src=\"https://plot.ly/~runoxinabox/0.embed\" height=\"525px\" width=\"100%\"></iframe>"
      ],
      "text/plain": [
       "<plotly.tools.PlotlyDisplay object>"
      ]
     },
     "execution_count": 12,
     "metadata": {},
     "output_type": "execute_result"
    }
   ],
   "source": [
    "py.iplot(data, filename='line-mode')"
   ]
  },
  {
   "cell_type": "code",
   "execution_count": null,
   "metadata": {},
   "outputs": [],
   "source": []
  }
 ],
 "metadata": {
  "kernelspec": {
   "display_name": "Python 3",
   "language": "python",
   "name": "python3"
  },
  "language_info": {
   "codemirror_mode": {
    "name": "ipython",
    "version": 3
   },
   "file_extension": ".py",
   "mimetype": "text/x-python",
   "name": "python",
   "nbconvert_exporter": "python",
   "pygments_lexer": "ipython3",
   "version": "3.7.1"
  }
 },
 "nbformat": 4,
 "nbformat_minor": 2
}
