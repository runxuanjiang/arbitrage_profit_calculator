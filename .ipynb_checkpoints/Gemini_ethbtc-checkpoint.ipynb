{
 "cells": [
  {
   "cell_type": "code",
   "execution_count": null,
   "metadata": {},
   "outputs": [],
   "source": [
    "import websocket\n",
    "import json\n",
    "import pandas as pd\n",
    "try:\n",
    "    import thread\n",
    "except ImportError:\n",
    "    import _thread as thread\n",
    "import time\n",
    "\n",
    "coin = \"ethbtc\" #Set you coin\n",
    "init = 1\n",
    "header = {\"type\":[],\"eventId\":[],\"timestamp\":[],\"timestampms\":[],\"socket_sequence\":[],\"events\":[]}\n",
    "header = pd.DataFrame(header)\n",
    "\n",
    "def on_message(ws, message):\n",
    "    result = json.loads(message)\n",
    "    lst = pd.DataFrame.from_dict(result)\n",
    "    global init, coin\n",
    "    if (init == 1):\n",
    "        #file path, one for initial data, one for transaction records\n",
    "        #the folder needs to be created before the program\n",
    "        lst.to_csv('1-10/'+coin+'_init.csv', header=True, index=False)\n",
    "        header.to_csv('1-10/'+coin+'.csv', header=True,index=False)\n",
    "        init = 0\n",
    "    else:\n",
    "        lst.to_csv('1-10/'+coin+'.csv', mode= 'a', header=False, index=False)\n",
    "def on_error(ws, error):\n",
    "    print(error)\n",
    "\n",
    "def on_close(ws):\n",
    "    print(\"### closed ###\")\n",
    "\n",
    "if __name__ == \"__main__\":\n",
    "    websocket.enableTrace(True)\n",
    "    #url here, add any other options according to API document\n",
    "    ws = websocket.WebSocketApp(\"wss://api.gemini.com/v1/marketdata/\"+coin+\"?bids=true&offers=true\",\n",
    "                              on_message = on_message,\n",
    "                              on_error = on_error,\n",
    "                              on_close = on_close)\n",
    "    ws.run_forever(ping_interval=60)"
   ]
  },
  {
   "cell_type": "code",
   "execution_count": null,
   "metadata": {},
   "outputs": [],
   "source": []
  }
 ],
 "metadata": {
  "kernelspec": {
   "display_name": "Python 3",
   "language": "python",
   "name": "python3"
  },
  "language_info": {
   "codemirror_mode": {
    "name": "ipython",
    "version": 3
   },
   "file_extension": ".py",
   "mimetype": "text/x-python",
   "name": "python",
   "nbconvert_exporter": "python",
   "pygments_lexer": "ipython3",
   "version": "3.7.0"
  }
 },
 "nbformat": 4,
 "nbformat_minor": 2
}
