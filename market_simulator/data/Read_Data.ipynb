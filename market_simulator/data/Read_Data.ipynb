{
 "cells": [
  {
   "cell_type": "markdown",
   "metadata": {},
   "source": [
    "## Data format\n",
    "\n",
    "#### Initial order:\n",
    "    \n",
    "- Variable name: initial_order_<$pair$>\n",
    "- Format: Numpy array ( col : attributes )\n",
    "        0 : {'bid' : 0 ; 'ask' : 1}\n",
    "        1 : Price \n",
    "        2 : Initial Volume\n",
    "\n",
    "#### Update order:\n",
    "\n",
    "- Variable name: update_order_<$pair$>\n",
    "- Format: Numpy array ( col : attributes )\n",
    "        0 : {'bid' : 1 ; 'ask' : 2}\n",
    "        1 : price\n",
    "        2 : remaining volume\n",
    "        3 : delta volume \n",
    "        4 : timestamp\n",
    "        5 : timestampms\n",
    "        6 : {'cancel' : 1, 'place' : 2, 'trade' : 3}\n",
    "        7 : eventId\n",
    "        \n",
    "        \n",
    "        "
   ]
  },
  {
   "cell_type": "markdown",
   "metadata": {},
   "source": [
    "## Data for BTC / USD pair"
   ]
  },
  {
   "cell_type": "code",
   "execution_count": 75,
   "metadata": {},
   "outputs": [
    {
     "name": "stdout",
     "output_type": "stream",
     "text": [
      "     type     eventId  socket_sequence  \\\n",
      "0  update  5347144785                0   \n",
      "1  update  5347144785                0   \n",
      "2  update  5347144785                0   \n",
      "3  update  5347144785                0   \n",
      "4  update  5347144785                0   \n",
      "\n",
      "                                              events  \n",
      "0  {'type': 'change', 'reason': 'initial', 'price...  \n",
      "1  {'type': 'change', 'reason': 'initial', 'price...  \n",
      "2  {'type': 'change', 'reason': 'initial', 'price...  \n",
      "3  {'type': 'change', 'reason': 'initial', 'price...  \n",
      "4  {'type': 'change', 'reason': 'initial', 'price...  \n"
     ]
    }
   ],
   "source": [
    "import numpy as np\n",
    "import pandas as pd\n",
    "import matplotlib.pyplot as plt\n",
    "\n",
    "btcusd_init = pd.read_csv(\"/Users/syiming/Desktop/SRG/1-12/btcusd_init.csv\") # Read initial btcusd order book data\n",
    "\n",
    "print(btcusd_init.head())"
   ]
  },
  {
   "cell_type": "code",
   "execution_count": 76,
   "metadata": {},
   "outputs": [
    {
     "name": "stdout",
     "output_type": "stream",
     "text": [
      "[[1.00000000e+00 1.00000000e-02 1.91642102e+05]\n",
      " [1.00000000e+00 2.00000000e-02 2.29595000e+04]\n",
      " [1.00000000e+00 3.00000000e-02 3.30000000e+01]\n",
      " ...\n",
      " [0.00000000e+00 9.99999000e+05 1.81884000e-02]\n",
      " [0.00000000e+00 9.99999420e+05 5.00000000e+00]\n",
      " [0.00000000e+00 1.00000000e+06 2.00000000e-03]]\n"
     ]
    }
   ],
   "source": [
    "# Create dictionary for bid and ask\n",
    "bidask = {'bid' : 1 , 'ask' : 0}\n",
    "\n",
    "from ast import literal_eval\n",
    "\n",
    "# Count lines in btcusd_init\n",
    "counter = 0\n",
    "for row in btcusd_init.iterrows():\n",
    "    if d[\"delta\"] != d[\"remaining\"]:\n",
    "        print(\"Delta / Remaining not matched!\")\n",
    "    counter += 1\n",
    "\n",
    "# Create initial_order: stores the initial order book\n",
    "# 0 : {'bid' : 0 ; 'ask' : 1}\n",
    "# 1 : Price \n",
    "# 2 : Initial Volume\n",
    "initial_order_btcusd = np.zeros((counter, 3))\n",
    "row_num = 0\n",
    "for row in btcusd_init.iterrows():\n",
    "    d = literal_eval(row[1][\"events\"]) # Covert string to dictionary                \n",
    "    initial_order_btcusd[row_num, 0] = bidask[d['side']] # 0 : {'bid' : 1 ; 'ask' : 0}\n",
    "    initial_order_btcusd[row_num, 1] = float(d[\"price\"]) # 1 : Price \n",
    "    initial_order_btcusd[row_num, 2] = float(d[\"delta\"]) # 2 : Initial Volume\n",
    "    row_num += 1\n",
    "print(initial_order_btcusd)"
   ]
  },
  {
   "cell_type": "code",
   "execution_count": 55,
   "metadata": {},
   "outputs": [
    {
     "name": "stdout",
     "output_type": "stream",
     "text": [
      "   Unnamed: 0    type     eventId   timestamp    timestampms  socket_sequence  \\\n",
      "0           0  update  5347144857  1547321049  1547321049820                1   \n",
      "1           1  update  5347144867  1547321050  1547321050110                2   \n",
      "2           2  update  5347144944  1547321053  1547321053890                3   \n",
      "3           3  update  5347144947  1547321054  1547321054006                4   \n",
      "4           4  update  5347144951  1547321054  1547321054032                5   \n",
      "\n",
      "  event_type side    price  remaining     delta  reason  \n",
      "0     change  ask  3629.26   1.396807  1.396807   place  \n",
      "1     change  ask  3652.60   0.620000  0.620000   place  \n",
      "2     change  bid  3625.83   0.000000 -3.700000  cancel  \n",
      "3     change  bid  3626.83   0.000000 -6.857100  cancel  \n",
      "4     change  bid  3624.78   6.889100  6.889100   place  \n"
     ]
    }
   ],
   "source": [
    "btcusd_update = pd.read_csv(\"/Users/syiming/Desktop/SRG/1-12/btcusd.csv\") # Read the update data\n",
    "\n",
    "print(btcusd_update.head())"
   ]
  },
  {
   "cell_type": "code",
   "execution_count": 77,
   "metadata": {},
   "outputs": [
    {
     "name": "stdout",
     "output_type": "stream",
     "text": [
      "[[0.00000000e+00 3.62926000e+03 1.39680691e+00 ... 1.54732105e+12\n",
      "  2.00000000e+00 5.34714486e+09]\n",
      " [0.00000000e+00 3.65260000e+03 6.20000000e-01 ... 1.54732105e+12\n",
      "  2.00000000e+00 5.34714487e+09]\n",
      " [1.00000000e+00 3.62583000e+03 0.00000000e+00 ... 1.54732105e+12\n",
      "  1.00000000e+00 5.34714494e+09]\n",
      " ...\n",
      " [0.00000000e+00 3.62085000e+03 1.00000000e+00 ... 1.54733924e+12\n",
      "  2.00000000e+00 5.34813046e+09]\n",
      " [1.00000000e+00 3.60880000e+03 0.00000000e+00 ... 1.54733924e+12\n",
      "  1.00000000e+00 5.34813048e+09]\n",
      " [0.00000000e+00 3.62085000e+03 0.00000000e+00 ... 1.54733924e+12\n",
      "  1.00000000e+00 5.34813053e+09]]\n"
     ]
    }
   ],
   "source": [
    "# Create a dictionary for reason\n",
    "reason = {'cancel' : 1, 'place' : 2, 'trade' : 3}\n",
    "\n",
    "# Create numpy array for update\n",
    "# 0 : {'bid' : 1 ; 'ask' : 2}\n",
    "# 1 : price\n",
    "# 2 : remaining volume\n",
    "# 3 : delta volume \n",
    "# 4 : timestamp\n",
    "# 5 : timestampms\n",
    "# 6 : reason\n",
    "# 7 : eventId\n",
    "\n",
    "# Count lines in btcusd_init\n",
    "counter = 0\n",
    "for row in btcusd_update.iterrows():\n",
    "    counter += 1\n",
    "    \n",
    "update_order_btcusd = np.zeros((counter, 8))\n",
    "row_num = 0    \n",
    "for row in btcusd_update.iterrows():\n",
    "    update_order_btcusd[row_num, 0] = bidask[row[1]['side']]\n",
    "    update_order_btcusd[row_num, 1] = row[1]['price']\n",
    "    update_order_btcusd[row_num, 2] = row[1]['remaining']\n",
    "    update_order_btcusd[row_num, 3] = row[1]['delta']\n",
    "    update_order_btcusd[row_num, 4] = row[1]['timestamp']\n",
    "    update_order_btcusd[row_num, 5] = row[1]['timestampms']\n",
    "    update_order_btcusd[row_num, 6] = reason[row[1]['reason']]\n",
    "    update_order_btcusd[row_num, 7] = row[1]['eventId']\n",
    "    row_num += 1\n",
    "print(update_order_btcusd)"
   ]
  },
  {
   "cell_type": "code",
   "execution_count": 78,
   "metadata": {},
   "outputs": [],
   "source": [
    "np.save('init_order_btcusd.npy', initial_order_btcusd)"
   ]
  },
  {
   "cell_type": "code",
   "execution_count": 79,
   "metadata": {},
   "outputs": [],
   "source": [
    "np.save('update_order_btcusd.npy', update_order_btcusd)"
   ]
  },
  {
   "cell_type": "code",
   "execution_count": null,
   "metadata": {},
   "outputs": [],
   "source": []
  }
 ],
 "metadata": {
  "kernelspec": {
   "display_name": "Python 3",
   "language": "python",
   "name": "python3"
  },
  "language_info": {
   "codemirror_mode": {
    "name": "ipython",
    "version": 3
   },
   "file_extension": ".py",
   "mimetype": "text/x-python",
   "name": "python",
   "nbconvert_exporter": "python",
   "pygments_lexer": "ipython3",
   "version": "3.6.7"
  }
 },
 "nbformat": 4,
 "nbformat_minor": 2
}
